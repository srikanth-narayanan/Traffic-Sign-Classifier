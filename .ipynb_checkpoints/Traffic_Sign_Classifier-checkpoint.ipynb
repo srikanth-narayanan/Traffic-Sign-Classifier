{
 "cells": [
  {
   "cell_type": "markdown",
   "metadata": {
    "deletable": true,
    "editable": true
   },
   "source": [
    "## Project: Build a Traffic Sign Recognition Classifier\n",
    "\n",
    "This notebook contains the implemetnation of Traffic sign classifier based on the LeNet architecure which is a convolution neural network. The following steps are used to create the classfier, pipeline and training process.\n",
    "\n",
    "- Load the data.\n",
    "- Understanding and Visualising the data.\n",
    "- Define training set, validation set and test set.\n",
    "- Design of Pipeline.\n",
    "- Training of Network.\n",
    "- Run Benchmark model without any preprocessing.\n",
    "- Preprocessing the data for usage.\n",
    "    - Use of different normalisation methods.\n",
    "    - Apply different image modification methods.\n",
    "- Measure of system performance.\n",
    "- Tunning of system performance.\n",
    "- Run classifier on Test data."
   ]
  },
  {
   "cell_type": "markdown",
   "metadata": {
    "deletable": true,
    "editable": true
   },
   "source": [
    "---\n",
    "### Load The Data\n",
    "\n",
    "The data set provided are the traffic signs sampled from the [German Traffic Sign Dataset](http://benchmark.ini.rub.de/?section=gtsrb&subsection=dataset), as pickled files. These files are already preprocessed to be 32x32x3 colourmap image library set."
   ]
  },
  {
   "cell_type": "code",
   "execution_count": 1,
   "metadata": {
    "collapsed": true,
    "deletable": true,
    "editable": true,
    "scrolled": false
   },
   "outputs": [],
   "source": [
    "# Load all necessary libraries\n",
    "import pickle\n",
    "import os\n",
    "import pandas as pd\n",
    "import numpy as np\n",
    "from math import ceil\n",
    "import matplotlib.pyplot as plt\n",
    "from sklearn.utils import shuffle\n",
    "import tensorflow as tf\n",
    "from LeNet5 import lenet5\n",
    "import cv2\n",
    "from tqdm import tqdm\n",
    "\n",
    "# Visualizations will be shown in the notebook.\n",
    "%matplotlib inline"
   ]
  },
  {
   "cell_type": "code",
   "execution_count": 2,
   "metadata": {
    "collapsed": true,
    "deletable": true,
    "editable": true,
    "scrolled": false
   },
   "outputs": [],
   "source": [
    "# Load pickled data\n",
    "\n",
    "# Root folder for the training data set\n",
    "rootDir = r\"./traffic-signs-data\"\n",
    "\n",
    "# Traffic sign identifier text csv file path\n",
    "signcsvname = \"signnames.csv\"\n",
    "\n",
    "# data set files path\n",
    "training_file = os.path.join(rootDir, \"train.p\")\n",
    "testing_file = os.path.join(rootDir, \"test.p\")\n",
    "\n",
    "with open(training_file, mode='rb') as f:\n",
    "    train = pickle.load(f)\n",
    "with open(testing_file, mode='rb') as f:\n",
    "    test = pickle.load(f)\n",
    "    \n",
    "Org_X_train, Org_y_train = train['features'], train['labels']\n",
    "X_test, y_test = test['features'], test['labels']\n",
    "\n",
    "from sklearn.model_selection import train_test_split\n",
    "X_train, X_valid, y_train, y_valid = train_test_split(Org_X_train, Org_y_train, test_size=0.2, random_state=0)"
   ]
  },
  {
   "cell_type": "markdown",
   "metadata": {
    "deletable": true,
    "editable": true
   },
   "source": [
    "---\n",
    "\n",
    "## Step 1: Dataset Summary & Exploration\n",
    "\n",
    "The pickled data is a dictionary with 4 key/value pairs:\n",
    "\n",
    "- `'features'` is a 4D array containing raw pixel data of the traffic sign images, (num examples, width, height, channels).\n",
    "- `'labels'` is a 1D array containing the label/class id of the traffic sign. The file `signnames.csv` contains id -> name mappings for each id.\n",
    "- `'sizes'` is a list containing tuples, (width, height) representing the original width and height the image.\n",
    "- `'coords'` is a list containing tuples, (x1, y1, x2, y2) representing coordinates of a bounding box around the sign in the image. **THESE COORDINATES ASSUME THE ORIGINAL IMAGE. THE PICKLED DATA CONTAINS RESIZED VERSIONS (32 by 32) OF THESE IMAGES**\n",
    "\n",
    "Complete the basic data summary below. Use python, numpy and/or pandas methods to calculate the data summary rather than hard coding the results. For example, the [pandas shape method](http://pandas.pydata.org/pandas-docs/stable/generated/pandas.DataFrame.shape.html) might be useful for calculating some of the summary results. "
   ]
  },
  {
   "cell_type": "markdown",
   "metadata": {
    "deletable": true,
    "editable": true
   },
   "source": [
    "### Provide a Basic Summary of the Data Set Using Python, Numpy and/or Pandas"
   ]
  },
  {
   "cell_type": "code",
   "execution_count": 3,
   "metadata": {
    "collapsed": false,
    "deletable": true,
    "editable": true,
    "scrolled": false
   },
   "outputs": [
    {
     "name": "stdout",
     "output_type": "stream",
     "text": [
      "Number of training examples = 27839\n",
      "Number of validation examples = 6960\n",
      "Number of testing examples = 12630\n",
      "Image data shape = (32, 32, 3)\n",
      "Number of classes = 43\n"
     ]
    }
   ],
   "source": [
    "### Replace each question mark with the appropriate value. \n",
    "### Use python, pandas or numpy methods rather than hard coding the results\n",
    "\n",
    "# TODO: Number of training examples\n",
    "n_train = np.shape(X_train)[0]\n",
    "\n",
    "# TODO: Number of validation examples\n",
    "n_validation = np.shape(X_valid)[0]\n",
    "\n",
    "# TODO: Number of testing examples.\n",
    "n_test = np.shape(X_test)[0]\n",
    "\n",
    "# TODO: What's the shape of an traffic sign image?\n",
    "image_shape = np.shape(X_train[0])\n",
    "\n",
    "# TODO: How many unique classes/labels there are in the dataset.\n",
    "n_classes = len(np.unique(y_train))\n",
    "\n",
    "print(\"Number of training examples =\", n_train)\n",
    "print(\"Number of validation examples =\", n_validation)\n",
    "print(\"Number of testing examples =\", n_test)\n",
    "print(\"Image data shape =\", image_shape)\n",
    "print(\"Number of classes =\", n_classes)"
   ]
  },
  {
   "cell_type": "markdown",
   "metadata": {
    "deletable": true,
    "editable": true
   },
   "source": [
    "### Include an exploratory visualization of the dataset"
   ]
  },
  {
   "cell_type": "markdown",
   "metadata": {
    "deletable": true,
    "editable": true
   },
   "source": [
    "Visualize the German Traffic Signs Dataset using the pickled file(s). This is open ended, suggestions include: plotting traffic sign images, plotting the count of each sign, etc. "
   ]
  },
  {
   "cell_type": "code",
   "execution_count": 4,
   "metadata": {
    "collapsed": false,
    "deletable": true,
    "editable": true,
    "scrolled": false
   },
   "outputs": [],
   "source": [
    "# A function provide a random sample of images from a given dataset and labels\n",
    "def getrandomset(dataset, label, nsample):\n",
    "    '''\n",
    "    This function generates random dataset based on the number of sample defined.\n",
    "    \n",
    "    :param dataset: the entire dataset from which random sample has to be selected\n",
    "    :param label: the ylabel dataset from which the indices are randomised\n",
    "    :param nsample: Number of random samples to be returned\n",
    "    '''\n",
    "    dataset, label =  shuffle(dataset, label)\n",
    "    rand_ind = np.random.choice(label, size=nsample, replace=False)\n",
    "    sample_dataset = dataset[rand_ind]\n",
    "    sample_label = label[rand_ind]\n",
    "    \n",
    "    return sample_dataset, sample_label"
   ]
  },
  {
   "cell_type": "code",
   "execution_count": 5,
   "metadata": {
    "collapsed": false,
    "deletable": true,
    "editable": true,
    "scrolled": false
   },
   "outputs": [],
   "source": [
    "def plotrandom(dataset, label, label_dict, dispoption=None):\n",
    "    '''\n",
    "    This fucntion plots the given dataset as subplot and its corresponding label.\n",
    "    \n",
    "    :param dataset: sample of dataset to be plotted\n",
    "    :param label: identifier of the dataset\n",
    "    :param label_dict: dictionary of the label identifier\n",
    "    '''\n",
    "    width = 12\n",
    "    height = 12\n",
    "    plt.figure(figsize=(width, height))\n",
    "    n_dataset = np.shape(dataset)[0]\n",
    "    if n_dataset <= 5:\n",
    "        nrows = 1\n",
    "        ncols = n_dataset\n",
    "    else:\n",
    "        nrows = ceil(n_dataset/5)\n",
    "        ncols = 5\n",
    "    for i in range(n_dataset):\n",
    "        x = dataset[i]\n",
    "        y = str(label[i]) + \" \" + label_dict[label[i]]\n",
    "        plt.subplot(nrows, ncols, i+1)\n",
    "        if dispoption is not None:\n",
    "            plt.imshow(x, cmap=dispoption)\n",
    "        else:\n",
    "            plt.imshow(x)\n",
    "        plt.imshow(x)\n",
    "        plt.axis('off')\n",
    "        plt.text(0,0,y, fontsize=9, backgroundcolor='y')\n",
    "    plt.show()"
   ]
  },
  {
   "cell_type": "code",
   "execution_count": 6,
   "metadata": {
    "collapsed": false,
    "deletable": true,
    "editable": true,
    "scrolled": false
   },
   "outputs": [],
   "source": [
    "def readLabel(csvfname):\n",
    "    '''\n",
    "    this function reads the traffic sign label name and returns dictionary of \n",
    "    the labels.\n",
    "    \n",
    "    :param csvfname: filepath of the sign label identifier\n",
    "    '''\n",
    "    dataframe = pd.read_csv(csvfname)\n",
    "    label_dict = pd.Series(dataframe.SignName, index=dataframe.ClassId).to_dict()\n",
    "    \n",
    "    return label_dict"
   ]
  },
  {
   "cell_type": "code",
   "execution_count": 7,
   "metadata": {
    "collapsed": true,
    "deletable": true,
    "editable": true,
    "scrolled": true
   },
   "outputs": [
    {
     "data": {
      "image/png": "[encoded data removed]",
      "text/plain": [
       "<matplotlib.figure.Figure at 0x1189240b8>"
      ]
     },
     "metadata": {},
     "output_type": "display_data"
    }
   ],
   "source": [
    "# Get random set of traffic sign to visualise them\n",
    "dataset, label = getrandomset(X_train, y_train, 20)\n",
    "\n",
    "# generate label dictionary to identify the traffic signs\n",
    "label_dict = readLabel(signcsvname)\n",
    "\n",
    "# Plot traffic signs\n",
    "plotrandom(dataset, label, label_dict)"
   ]
  },
  {
   "cell_type": "markdown",
   "metadata": {
    "deletable": true,
    "editable": true
   },
   "source": [
    "## Benchmark run without any normalisation or Image Processing"
   ]
  },
  {
   "cell_type": "code",
   "execution_count": 8,
   "metadata": {
    "collapsed": false,
    "deletable": true,
    "editable": true,
    "scrolled": false
   },
   "outputs": [
    {
     "name": "stdout",
     "output_type": "stream",
     "text": [
      "Training...\n",
      "\n",
      "EPOCH 1 ...Validation Accuracy = 0.455\n",
      "EPOCH 2 ...Validation Accuracy = 0.754\n",
      "EPOCH 3 ...Validation Accuracy = 0.837\n",
      "EPOCH 4 ...Validation Accuracy = 0.894\n",
      "EPOCH 5 ...Validation Accuracy = 0.912\n",
      "EPOCH 6 ...Validation Accuracy = 0.919\n",
      "EPOCH 7 ...Validation Accuracy = 0.934\n",
      "EPOCH 8 ...Validation Accuracy = 0.934\n",
      "EPOCH 9 ...Validation Accuracy = 0.940\n",
      "EPOCH 10 ...Validation Accuracy = 0.945\n"
     ]
    }
   ],
   "source": [
    "# Create an Object of the LeNet5\n",
    "lenet5obj = lenet5.neuralLeNet(X_train, y_train, X_valid, y_valid, X_test, y_test)\n",
    "\n",
    "# Setup Process\n",
    "lenet5obj.process_setup(EPOCHS=10, BATCH_SIZE=250, mu=0, sigma=0.1,\n",
    "                        inputshape=(5, 5, 3, 6), x_shape=(None, 32, 32, 3),\n",
    "                        y_shape=(None), onehot_class=43, outputclass=43)\n",
    "# Setup training\n",
    "lenet5obj.setup_train_pipe(learning_rate=0.001)\n",
    "\n",
    "# Sstart training\n",
    "lenet5obj.train()"
   ]
  },
  {
   "cell_type": "markdown",
   "metadata": {},
   "source": [
    "## Run With Smaller Learning Rate"
   ]
  },
  {
   "cell_type": "code",
   "execution_count": 9,
   "metadata": {
    "collapsed": false,
    "scrolled": false
   },
   "outputs": [
    {
     "name": "stdout",
     "output_type": "stream",
     "text": [
      "Training...\n",
      "\n",
      "EPOCH 1 ...Validation Accuracy = 0.404\n",
      "EPOCH 2 ...Validation Accuracy = 0.645\n",
      "EPOCH 3 ...Validation Accuracy = 0.778\n",
      "EPOCH 4 ...Validation Accuracy = 0.838\n",
      "EPOCH 5 ...Validation Accuracy = 0.874\n",
      "EPOCH 6 ...Validation Accuracy = 0.897\n",
      "EPOCH 7 ...Validation Accuracy = 0.907\n",
      "EPOCH 8 ...Validation Accuracy = 0.914\n",
      "EPOCH 9 ...Validation Accuracy = 0.917\n",
      "EPOCH 10 ...Validation Accuracy = 0.927\n"
     ]
    }
   ],
   "source": [
    "# Create an Object of the LeNet5\n",
    "lenet5obj_LowLR = lenet5.neuralLeNet(X_train, y_train, X_valid, y_valid, X_test, y_test)\n",
    "\n",
    "# Setup Process\n",
    "lenet5obj_LowLR.process_setup(EPOCHS=10, BATCH_SIZE=250, mu=0, sigma=0.1,\n",
    "                        inputshape=(5, 5, 3, 6), x_shape=(None, 32, 32, 3),\n",
    "                        y_shape=(None), onehot_class=43, outputclass=43)\n",
    "# Setup training\n",
    "lenet5obj_LowLR.setup_train_pipe(learning_rate=0.0005)\n",
    "\n",
    "# Sstart training\n",
    "lenet5obj_LowLR.train()"
   ]
  },
  {
   "cell_type": "markdown",
   "metadata": {},
   "source": [
    "## Test with Half the Batch Size"
   ]
  },
  {
   "cell_type": "code",
   "execution_count": 10,
   "metadata": {
    "collapsed": false,
    "scrolled": false
   },
   "outputs": [
    {
     "name": "stdout",
     "output_type": "stream",
     "text": [
      "Training...\n",
      "\n",
      "EPOCH 1 ...Validation Accuracy = 0.750\n",
      "EPOCH 2 ...Validation Accuracy = 0.863\n",
      "EPOCH 3 ...Validation Accuracy = 0.902\n",
      "EPOCH 4 ...Validation Accuracy = 0.919\n",
      "EPOCH 5 ...Validation Accuracy = 0.922\n",
      "EPOCH 6 ...Validation Accuracy = 0.936\n",
      "EPOCH 7 ...Validation Accuracy = 0.939\n",
      "EPOCH 8 ...Validation Accuracy = 0.937\n",
      "EPOCH 9 ...Validation Accuracy = 0.939\n",
      "EPOCH 10 ...Validation Accuracy = 0.951\n"
     ]
    }
   ],
   "source": [
    "# Create an Object of the LeNet5\n",
    "lenet5obj_lowBatch = lenet5.neuralLeNet(X_train, y_train, X_valid, y_valid, X_test, y_test)\n",
    "\n",
    "# Setup Process\n",
    "lenet5obj_lowBatch.process_setup(EPOCHS=10, BATCH_SIZE=128, mu=0, sigma=0.1,\n",
    "                        inputshape=(5, 5, 3, 6), x_shape=(None, 32, 32, 3),\n",
    "                        y_shape=(None), onehot_class=43, outputclass=43)\n",
    "# Setup training\n",
    "lenet5obj_lowBatch.setup_train_pipe(learning_rate=0.001)\n",
    "\n",
    "# Sstart training\n",
    "lenet5obj_lowBatch.train()"
   ]
  },
  {
   "cell_type": "markdown",
   "metadata": {},
   "source": [
    "## Test with 50% Dropout"
   ]
  },
  {
   "cell_type": "code",
   "execution_count": 11,
   "metadata": {
    "collapsed": false,
    "scrolled": false
   },
   "outputs": [
    {
     "name": "stdout",
     "output_type": "stream",
     "text": [
      "Training...\n",
      "\n",
      "EPOCH 1 ...Validation Accuracy = 0.435\n",
      "EPOCH 2 ...Validation Accuracy = 0.695\n",
      "EPOCH 3 ...Validation Accuracy = 0.804\n",
      "EPOCH 4 ...Validation Accuracy = 0.855\n",
      "EPOCH 5 ...Validation Accuracy = 0.889\n",
      "EPOCH 6 ...Validation Accuracy = 0.906\n",
      "EPOCH 7 ...Validation Accuracy = 0.924\n",
      "EPOCH 8 ...Validation Accuracy = 0.936\n",
      "EPOCH 9 ...Validation Accuracy = 0.939\n",
      "EPOCH 10 ...Validation Accuracy = 0.942\n"
     ]
    }
   ],
   "source": [
    "# Create an Object of the LeNet5\n",
    "lenet5obj_drop = lenet5.neuralLeNet(X_train, y_train, X_valid, y_valid, X_test, y_test)\n",
    "\n",
    "# Setup Process\n",
    "lenet5obj_drop.process_setup(EPOCHS=10, BATCH_SIZE=128, mu=0, sigma=0.1,\n",
    "                        inputshape=(5, 5, 3, 6), x_shape=(None, 32, 32, 3),\n",
    "                        y_shape=(None), onehot_class=43, outputclass=43, dropout=0.5)\n",
    "# Setup training\n",
    "lenet5obj_drop.setup_train_pipe(learning_rate=0.0005)\n",
    "\n",
    "# Sstart training\n",
    "lenet5obj_drop.train()"
   ]
  },
  {
   "cell_type": "markdown",
   "metadata": {
    "deletable": true,
    "editable": true
   },
   "source": [
    "----\n",
    "\n",
    "## Step 2: Design and Test a Model Architecture"
   ]
  },
  {
   "cell_type": "markdown",
   "metadata": {
    "deletable": true,
    "editable": true
   },
   "source": [
    "### Pre-process the Data Set (normalization, grayscale, etc.)"
   ]
  },
  {
   "cell_type": "markdown",
   "metadata": {
    "deletable": true,
    "editable": true
   },
   "source": [
    "Minimally, the image data should be normalized so that the data has mean zero and equal variance. For image data, `(pixel - 128)/ 128` is a quick way to approximately normalize the data and can be used in this project. \n",
    "\n",
    "Other pre-processing steps are optional. You can try different techniques to see if it improves performance. \n",
    "\n",
    "Use the code cell (or multiple code cells, if necessary) to implement the first step of your project."
   ]
  },
  {
   "cell_type": "code",
   "execution_count": 12,
   "metadata": {
    "collapsed": false,
    "deletable": true,
    "editable": true,
    "scrolled": true
   },
   "outputs": [],
   "source": [
    "def normalisebystd(dataset):\n",
    "    '''\n",
    "    This function will normalise a given array with mean and std. Deviation\n",
    "    \n",
    "    :param dataset: the test or train image 4d array to be normalised\n",
    "    '''\n",
    "    mean = dataset.mean()\n",
    "    std = dataset.std()\n",
    "    dset = (dataset - mean) / std\n",
    "    return dset\n",
    "\n",
    "def simplenormalise(dataset):\n",
    "    '''\n",
    "    This function will normalise a given array with mean and std. Deviation\n",
    "    \n",
    "    :param dataset: the test or train image 4d array to be normalised\n",
    "    '''\n",
    "    dset = (dataset - 128) / 128\n",
    "    return dset\n",
    "\n",
    "def minmaxscaler(dataset):\n",
    "    '''\n",
    "    This function performs min-max scaling for a given dataset\n",
    "    '''\n",
    "    xmin = dataset.min()\n",
    "    xmax = dataset.max()\n",
    "    dset = (dataset - xmin) / (xmax - xmin)\n",
    "    return dset"
   ]
  },
  {
   "cell_type": "code",
   "execution_count": 14,
   "metadata": {
    "collapsed": false,
    "deletable": true,
    "editable": true,
    "scrolled": false
   },
   "outputs": [
    {
     "name": "stdout",
     "output_type": "stream",
     "text": [
      "Training...\n",
      "\n",
      "EPOCH 1 ...Validation Accuracy = 0.806\n",
      "EPOCH 2 ...Validation Accuracy = 0.902\n",
      "EPOCH 3 ...Validation Accuracy = 0.941\n",
      "EPOCH 4 ...Validation Accuracy = 0.953\n",
      "EPOCH 5 ...Validation Accuracy = 0.959\n",
      "EPOCH 6 ...Validation Accuracy = 0.957\n",
      "EPOCH 7 ...Validation Accuracy = 0.968\n",
      "EPOCH 8 ...Validation Accuracy = 0.969\n",
      "EPOCH 9 ...Validation Accuracy = 0.969\n",
      "EPOCH 10 ...Validation Accuracy = 0.979\n"
     ]
    }
   ],
   "source": [
    "# Normalise option 1\n",
    "X_train = Org_X_train.copy()\n",
    "y_train = Org_y_train.copy()\n",
    "\n",
    "X_train, X_valid, y_train, y_valid = train_test_split(X_train, y_train, test_size=0.2, random_state=0)\n",
    "X_train = normalisebystd(X_train)\n",
    "X_valid = normalisebystd(X_valid)\n",
    "\n",
    "# Re Run Network to see the Performance\n",
    "# Create an Object of the LeNet5\n",
    "lenet5obj_Norm1 = lenet5.neuralLeNet(X_train, y_train, X_valid, y_valid, X_test, y_test)\n",
    "\n",
    "# Setup Process\n",
    "lenet5obj_Norm1.process_setup(EPOCHS=10, BATCH_SIZE=128, mu=0, sigma=0.1,\n",
    "                        inputshape=(5, 5, 3, 6), x_shape=(None, 32, 32, 3),\n",
    "                        y_shape=(None), onehot_class=43, outputclass=43)\n",
    "\n",
    "# Setup training\n",
    "lenet5obj_Norm1.setup_train_pipe(learning_rate=0.001)\n",
    "\n",
    "# Sstart training\n",
    "lenet5obj_Norm1.train()"
   ]
  },
  {
   "cell_type": "code",
   "execution_count": 15,
   "metadata": {
    "collapsed": false,
    "deletable": true,
    "editable": true,
    "scrolled": false
   },
   "outputs": [
    {
     "name": "stdout",
     "output_type": "stream",
     "text": [
      "Training...\n",
      "\n",
      "EPOCH 1 ...Validation Accuracy = 0.376\n",
      "EPOCH 2 ...Validation Accuracy = 0.642\n",
      "EPOCH 3 ...Validation Accuracy = 0.754\n",
      "EPOCH 4 ...Validation Accuracy = 0.820\n",
      "EPOCH 5 ...Validation Accuracy = 0.849\n",
      "EPOCH 6 ...Validation Accuracy = 0.879\n",
      "EPOCH 7 ...Validation Accuracy = 0.890\n",
      "EPOCH 8 ...Validation Accuracy = 0.898\n",
      "EPOCH 9 ...Validation Accuracy = 0.903\n",
      "EPOCH 10 ...Validation Accuracy = 0.907\n"
     ]
    }
   ],
   "source": [
    "# Normalise Option 2\n",
    "X_train = Org_X_train.copy()\n",
    "y_train = Org_y_train.copy()\n",
    "\n",
    "X_train, X_valid, y_train, y_valid = train_test_split(X_train, y_train, test_size=0.2, random_state=0)\n",
    "X_train = simplenormalise(X_train)\n",
    "X_valid = simplenormalise(X_valid)\n",
    "\n",
    "# Re Run Network to see the Performance\n",
    "# Create an Object of the LeNet5\n",
    "lenet5obj_Norm2 = lenet5.neuralLeNet(X_train, y_train, X_valid, y_valid, X_test, y_test)\n",
    "\n",
    "# Setup Process\n",
    "lenet5obj_Norm2.process_setup(EPOCHS=10, BATCH_SIZE=128, mu=0, sigma=0.1,\n",
    "                        inputshape=(5, 5, 3, 6), x_shape=(None, 32, 32, 3),\n",
    "                        y_shape=(None), onehot_class=43, outputclass=43)\n",
    "\n",
    "# Setup training\n",
    "lenet5obj_Norm2.setup_train_pipe(learning_rate=0.001)\n",
    "\n",
    "# Sstart training\n",
    "lenet5obj_Norm2.train()"
   ]
  },
  {
   "cell_type": "code",
   "execution_count": 16,
   "metadata": {
    "collapsed": false,
    "deletable": true,
    "editable": true,
    "scrolled": false
   },
   "outputs": [
    {
     "name": "stdout",
     "output_type": "stream",
     "text": [
      "Training...\n",
      "\n",
      "EPOCH 1 ...Validation Accuracy = 0.688\n",
      "EPOCH 2 ...Validation Accuracy = 0.828\n",
      "EPOCH 3 ...Validation Accuracy = 0.890\n",
      "EPOCH 4 ...Validation Accuracy = 0.933\n",
      "EPOCH 5 ...Validation Accuracy = 0.949\n",
      "EPOCH 6 ...Validation Accuracy = 0.955\n",
      "EPOCH 7 ...Validation Accuracy = 0.958\n",
      "EPOCH 8 ...Validation Accuracy = 0.965\n",
      "EPOCH 9 ...Validation Accuracy = 0.969\n",
      "EPOCH 10 ...Validation Accuracy = 0.974\n"
     ]
    }
   ],
   "source": [
    "# Normalisation option 3\n",
    "X_train = Org_X_train.copy()\n",
    "y_train = Org_y_train.copy()\n",
    "\n",
    "X_train, X_valid, y_train, y_valid = train_test_split(X_train, y_train, test_size=0.2, random_state=0)\n",
    "X_train = minmaxscaler(X_train)\n",
    "X_valid = minmaxscaler(X_valid)\n",
    "\n",
    "# Re Run Network to see the Performance\n",
    "# Create an Object of the LeNet5\n",
    "lenet5obj_Norm3 = lenet5.neuralLeNet(X_train, y_train, X_valid, y_valid, X_test, y_test)\n",
    "\n",
    "# Setup Process\n",
    "lenet5obj_Norm3.process_setup(EPOCHS=10, BATCH_SIZE=128, mu=0, sigma=0.1,\n",
    "                        inputshape=(5, 5, 3, 6), x_shape=(None, 32, 32, 3),\n",
    "                        y_shape=(None), onehot_class=43, outputclass=43)\n",
    "\n",
    "# Setup training\n",
    "lenet5obj_Norm3.setup_train_pipe(learning_rate=0.001)\n",
    "\n",
    "# Sstart training\n",
    "lenet5obj_Norm3.train()"
   ]
  },
  {
   "cell_type": "code",
   "execution_count": 31,
   "metadata": {
    "collapsed": false,
    "deletable": true,
    "editable": true,
    "scrolled": true
   },
   "outputs": [],
   "source": [
    "# Image Preprocessing\n",
    "def rotation(image, angle=5):\n",
    "    '''\n",
    "    Rotates the image to a given angle and return the dataset with rotated image\n",
    "    '''\n",
    "    angle = np.random.uniform(-angle, angle)\n",
    "    nrow, ncol = np.shape(image)[:2]\n",
    "    scale = 1\n",
    "    rot_matrix = cv2.getRotationMatrix2D((nrow/2, ncol/2), angle, scale)\n",
    "    rot_img = cv2.warpAffine(image, rot_matrix, (ncol, nrow))\n",
    "    return rot_img\n",
    "\n",
    "def translate(image, trans_x, trans_y):\n",
    "    '''\n",
    "    This translates the image by the a and y value provided for translation.\n",
    "    '''\n",
    "    trans_x = np.random.uniform(-trans_x, trans_x)\n",
    "    trans_y = np.random.uniform(-trans_y, trans_y)\n",
    "    nrow, ncol = np.shape(image)[:2]\n",
    "    trans_matrix = np.float32([[1,0,trans_x],[0,1,trans_y]])\n",
    "    trans_img = cv2.warpAffine(image, trans_matrix, (ncol,nrow))\n",
    "    return trans_img\n",
    "\n",
    "def enhance_image(image, kernel_size, weight):\n",
    "    blurred = cv2.GaussianBlur(image, (kernel_size, kernel_size), 0)\n",
    "    return cv2.addWeighted(image, weight, blurred, -weight, image.mean())"
   ]
  },
  {
   "cell_type": "code",
   "execution_count": 18,
   "metadata": {
    "collapsed": false,
    "deletable": true,
    "editable": true,
    "scrolled": true
   },
   "outputs": [],
   "source": [
    "def grayscale(img):\n",
    "    \"\"\"Applies the Grayscale transform\n",
    "    This will return an image with only one color channel, The dimension is reset 3D array.\"\"\"\n",
    "    return cv2.cvtColor(img, cv2.COLOR_RGB2GRAY)[:,:,np.newaxis]\n",
    "\n",
    "def HSV(img):\n",
    "    \"\"\"\n",
    "    converts the given RGB image to HSV colour space\n",
    "    \"\"\"\n",
    "    return cv2.cvtColor(img, cv2.COLOR_RGB2HSV)\n",
    "\n",
    "def YUV(img):\n",
    "    \"\"\"\n",
    "    converts the RGB image to YUV colour space\n",
    "    \"\"\"\n",
    "    return cv2.cvtColor(img, cv2.COLOR_RGB2YUV)"
   ]
  },
  {
   "cell_type": "code",
   "execution_count": 19,
   "metadata": {
    "collapsed": false,
    "deletable": true,
    "editable": true,
    "scrolled": true
   },
   "outputs": [
    {
     "name": "stderr",
     "output_type": "stream",
     "text": [
      "100%|██████████| 27839/27839 [00:01<00:00, 24644.57it/s]\n"
     ]
    },
    {
     "data": {
      "image/png": "[encoded data removed]",
      "text/plain": [
       "<matplotlib.figure.Figure at 0x1355bb080>"
      ]
     },
     "metadata": {},
     "output_type": "display_data"
    },
    {
     "name": "stdout",
     "output_type": "stream",
     "text": [
      "Training...\n",
      "\n",
      "EPOCH 1 ...Validation Accuracy = 0.697\n",
      "EPOCH 2 ...Validation Accuracy = 0.851\n",
      "EPOCH 3 ...Validation Accuracy = 0.891\n",
      "EPOCH 4 ...Validation Accuracy = 0.910\n",
      "EPOCH 5 ...Validation Accuracy = 0.937\n",
      "EPOCH 6 ...Validation Accuracy = 0.943\n",
      "EPOCH 7 ...Validation Accuracy = 0.945\n",
      "EPOCH 8 ...Validation Accuracy = 0.935\n",
      "EPOCH 9 ...Validation Accuracy = 0.941\n",
      "EPOCH 10 ...Validation Accuracy = 0.957\n"
     ]
    }
   ],
   "source": [
    "# Running Training to understand the performance on Image transformations\n",
    "# Image Rotation\n",
    "X_train = Org_X_train.copy()\n",
    "y_train = Org_y_train.copy()\n",
    "\n",
    "X_train, X_valid, y_train, y_valid = train_test_split(X_train, y_train, test_size=0.2, random_state=0)\n",
    "X_train_new = []\n",
    "for i in tqdm(range(np.shape(X_train)[0])):\n",
    "    X_train_new.append(rotation(X_train[i], angle = 3))\n",
    "\n",
    "X_train_new = np.array(X_train_new)\n",
    "\n",
    "# Plot some new rotated image\n",
    "# Get random set of traffic sign to visualise them\n",
    "dataset, label = getrandomset(X_train_new, y_train, 5)\n",
    "# generate label dictionary to identify the traffic signs\n",
    "label_dict = readLabel(signcsvname)\n",
    "# Plot traffic signs\n",
    "plotrandom(dataset, label, label_dict)\n",
    "\n",
    "# Re Run Network to see the Performance\n",
    "# Create an Object of the LeNet5\n",
    "lenet5obj_rot = lenet5.neuralLeNet(X_train_new, y_train, X_valid, y_valid, X_test, y_test)\n",
    "\n",
    "# Setup Process\n",
    "lenet5obj_rot.process_setup(EPOCHS=10, BATCH_SIZE=128, mu=0, sigma=0.1,\n",
    "                        inputshape=(5, 5, 3, 6), x_shape=(None, 32, 32, 3),\n",
    "                        y_shape=(None), onehot_class=43, outputclass=43)\n",
    "\n",
    "# Setup training\n",
    "lenet5obj_rot.setup_train_pipe(learning_rate=0.001)\n",
    "\n",
    "# Sstart training\n",
    "lenet5obj_rot.train()"
   ]
  },
  {
   "cell_type": "code",
   "execution_count": 20,
   "metadata": {
    "collapsed": false,
    "deletable": true,
    "editable": true,
    "scrolled": true
   },
   "outputs": [
    {
     "name": "stderr",
     "output_type": "stream",
     "text": [
      "100%|██████████| 27839/27839 [00:01<00:00, 23707.80it/s]\n"
     ]
    },
    {
     "data": {
      "image/png": "[encoded data removed]",
      "text/plain": [
       "<matplotlib.figure.Figure at 0x14beebf60>"
      ]
     },
     "metadata": {},
     "output_type": "display_data"
    },
    {
     "name": "stdout",
     "output_type": "stream",
     "text": [
      "Training...\n",
      "\n",
      "EPOCH 1 ...Validation Accuracy = 0.220\n",
      "EPOCH 2 ...Validation Accuracy = 0.308\n",
      "EPOCH 3 ...Validation Accuracy = 0.370\n",
      "EPOCH 4 ...Validation Accuracy = 0.421\n",
      "EPOCH 5 ...Validation Accuracy = 0.450\n",
      "EPOCH 6 ...Validation Accuracy = 0.482\n",
      "EPOCH 7 ...Validation Accuracy = 0.494\n",
      "EPOCH 8 ...Validation Accuracy = 0.525\n",
      "EPOCH 9 ...Validation Accuracy = 0.530\n",
      "EPOCH 10 ...Validation Accuracy = 0.532\n"
     ]
    }
   ],
   "source": [
    "# Running Training to understand the performance on Image transformations\n",
    "# Image Translation\n",
    "X_train = Org_X_train.copy()\n",
    "y_train = Org_y_train.copy()\n",
    "\n",
    "X_train, X_valid, y_train, y_valid = train_test_split(X_train, y_train, test_size=0.2, random_state=0)\n",
    "X_train_new = []\n",
    "for i in tqdm(range(np.shape(X_train)[0])):\n",
    "    X_train_new.append(translate(X_train[i], 5, 6))\n",
    "\n",
    "X_train_new = np.array(X_train_new)\n",
    "\n",
    "# Plot some new rotated image\n",
    "# Get random set of traffic sign to visualise them\n",
    "dataset, label = getrandomset(X_train_new, y_train, 5)\n",
    "# generate label dictionary to identify the traffic signs\n",
    "label_dict = readLabel(signcsvname)\n",
    "# Plot traffic signs\n",
    "plotrandom(dataset, label, label_dict)\n",
    "\n",
    "# Re Run Network to see the Performance\n",
    "# Create an Object of the LeNet5\n",
    "lenet5obj_trans = lenet5.neuralLeNet(X_train_new, y_train, X_valid, y_valid, X_test, y_test)\n",
    "\n",
    "# Setup Process\n",
    "lenet5obj_trans.process_setup(EPOCHS=10, BATCH_SIZE=128, mu=0, sigma=0.1,\n",
    "                        inputshape=(5, 5, 3, 6), x_shape=(None, 32, 32, 3),\n",
    "                        y_shape=(None), onehot_class=43, outputclass=43)\n",
    "\n",
    "# Setup training\n",
    "lenet5obj_trans.setup_train_pipe(learning_rate=0.001)\n",
    "\n",
    "# Sstart training\n",
    "lenet5obj_trans.train()"
   ]
  },
  {
   "cell_type": "code",
   "execution_count": 21,
   "metadata": {
    "collapsed": false,
    "scrolled": false
   },
   "outputs": [
    {
     "name": "stderr",
     "output_type": "stream",
     "text": [
      "100%|██████████| 27839/27839 [00:00<00:00, 96316.71it/s]\n",
      "100%|██████████| 6960/6960 [00:00<00:00, 83996.14it/s]\n"
     ]
    },
    {
     "name": "stdout",
     "output_type": "stream",
     "text": [
      "(27839, 32, 32, 1)\n",
      "(6960, 32, 32, 1)\n",
      "Training...\n",
      "\n",
      "EPOCH 1 ...Validation Accuracy = 0.557\n",
      "EPOCH 2 ...Validation Accuracy = 0.758\n",
      "EPOCH 3 ...Validation Accuracy = 0.847\n",
      "EPOCH 4 ...Validation Accuracy = 0.885\n",
      "EPOCH 5 ...Validation Accuracy = 0.882\n",
      "EPOCH 6 ...Validation Accuracy = 0.911\n",
      "EPOCH 7 ...Validation Accuracy = 0.931\n",
      "EPOCH 8 ...Validation Accuracy = 0.938\n",
      "EPOCH 9 ...Validation Accuracy = 0.935\n",
      "EPOCH 10 ...Validation Accuracy = 0.960\n"
     ]
    }
   ],
   "source": [
    "# Running Training to understand the performance on Image transformations\n",
    "# Image GrayScale\n",
    "X_train = Org_X_train.copy()\n",
    "y_train = Org_y_train.copy()\n",
    "\n",
    "X_train, X_valid, y_train, y_valid = train_test_split(X_train, y_train, test_size=0.2, random_state=0)\n",
    "X_train_new = []\n",
    "X_valid_new = []\n",
    "for i in tqdm(range(np.shape(X_train)[0])):\n",
    "    X_train_new.append(grayscale(X_train[i]))\n",
    "\n",
    "for i in tqdm(range(np.shape(X_valid)[0])):\n",
    "    X_valid_new.append(grayscale(X_valid[i]))\n",
    "\n",
    "X_train_new = np.array(X_train_new)\n",
    "print(np.shape(X_train_new))\n",
    "print(np.shape(X_valid_new))\n",
    "# Re Run Network to see the Performance\n",
    "# Create an Object of the LeNet5\n",
    "lenet5obj_gray = lenet5.neuralLeNet(X_train_new, y_train, X_valid_new, y_valid, X_test, y_test)\n",
    "\n",
    "# Setup Process\n",
    "lenet5obj_gray.process_setup(EPOCHS=10, BATCH_SIZE=128, mu=0, sigma=0.1,\n",
    "                        inputshape=(5, 5, 1, 6), x_shape=(None, 32, 32, 1),\n",
    "                        y_shape=(None), onehot_class=43, outputclass=43)\n",
    "\n",
    "# Setup training\n",
    "lenet5obj_gray.setup_train_pipe(learning_rate=0.001)\n",
    "\n",
    "# Sstart training\n",
    "lenet5obj_gray.train()"
   ]
  },
  {
   "cell_type": "code",
   "execution_count": 22,
   "metadata": {
    "collapsed": false,
    "scrolled": true
   },
   "outputs": [
    {
     "name": "stderr",
     "output_type": "stream",
     "text": [
      "100%|██████████| 27839/27839 [00:00<00:00, 43885.67it/s]\n",
      "100%|██████████| 6960/6960 [00:00<00:00, 42735.55it/s]\n"
     ]
    },
    {
     "data": {
      "image/png": "[encoded data removed]",
      "text/plain": [
       "<matplotlib.figure.Figure at 0x14a421630>"
      ]
     },
     "metadata": {},
     "output_type": "display_data"
    },
    {
     "name": "stdout",
     "output_type": "stream",
     "text": [
      "Training...\n",
      "\n",
      "EPOCH 1 ...Validation Accuracy = 0.455\n",
      "EPOCH 2 ...Validation Accuracy = 0.606\n",
      "EPOCH 3 ...Validation Accuracy = 0.688\n",
      "EPOCH 4 ...Validation Accuracy = 0.742\n",
      "EPOCH 5 ...Validation Accuracy = 0.780\n",
      "EPOCH 6 ...Validation Accuracy = 0.808\n",
      "EPOCH 7 ...Validation Accuracy = 0.848\n",
      "EPOCH 8 ...Validation Accuracy = 0.869\n",
      "EPOCH 9 ...Validation Accuracy = 0.884\n",
      "EPOCH 10 ...Validation Accuracy = 0.887\n"
     ]
    }
   ],
   "source": [
    "# Running Training to understand the performance on Image transformations\n",
    "# Image HSV\n",
    "X_train = Org_X_train.copy()\n",
    "y_train = Org_y_train.copy()\n",
    "\n",
    "X_train, X_valid, y_train, y_valid = train_test_split(X_train, y_train, test_size=0.2, random_state=0)\n",
    "X_train_new = []\n",
    "X_valid_new = []\n",
    "for i in tqdm(range(np.shape(X_train)[0])):\n",
    "    X_train_new.append(HSV(X_train[i]))\n",
    "\n",
    "for i in tqdm(range(np.shape(X_valid)[0])):\n",
    "    X_valid_new.append(HSV(X_valid[i]))\n",
    "\n",
    "X_train_new = np.array(X_train_new)\n",
    "X_valid_new = np.array(X_valid_new)\n",
    "\n",
    "# Plot some new rotated image\n",
    "# Get random set of traffic sign to visualise them\n",
    "dataset, label = getrandomset(X_train_new, y_train, 5)\n",
    "# generate label dictionary to identify the traffic signs\n",
    "label_dict = readLabel(signcsvname)\n",
    "# Plot traffic signs\n",
    "plotrandom(dataset, label, label_dict)\n",
    "\n",
    "# Re Run Network to see the Performance\n",
    "# Create an Object of the LeNet5\n",
    "lenet5obj_HSV = lenet5.neuralLeNet(X_train_new, y_train, X_valid_new, y_valid, X_test, y_test)\n",
    "\n",
    "# Setup Process\n",
    "lenet5obj_HSV.process_setup(EPOCHS=10, BATCH_SIZE=128, mu=0, sigma=0.1,\n",
    "                        inputshape=(5, 5, 3, 6), x_shape=(None, 32, 32, 3),\n",
    "                        y_shape=(None), onehot_class=43, outputclass=43)\n",
    "\n",
    "# Setup training\n",
    "lenet5obj_HSV.setup_train_pipe(learning_rate=0.001)\n",
    "\n",
    "# Sstart training\n",
    "lenet5obj_HSV.train()"
   ]
  },
  {
   "cell_type": "code",
   "execution_count": 23,
   "metadata": {
    "collapsed": false,
    "scrolled": true
   },
   "outputs": [
    {
     "name": "stderr",
     "output_type": "stream",
     "text": [
      "100%|██████████| 27839/27839 [00:00<00:00, 83798.43it/s]\n",
      "100%|██████████| 6960/6960 [00:00<00:00, 87052.23it/s]\n"
     ]
    },
    {
     "data": {
      "image/png": "[encoded data removed]",
      "text/plain": [
       "<matplotlib.figure.Figure at 0x26651ef60>"
      ]
     },
     "metadata": {},
     "output_type": "display_data"
    },
    {
     "name": "stdout",
     "output_type": "stream",
     "text": [
      "Training...\n",
      "\n",
      "EPOCH 1 ...Validation Accuracy = 0.537\n",
      "EPOCH 2 ...Validation Accuracy = 0.721\n",
      "EPOCH 3 ...Validation Accuracy = 0.795\n",
      "EPOCH 4 ...Validation Accuracy = 0.835\n",
      "EPOCH 5 ...Validation Accuracy = 0.854\n",
      "EPOCH 6 ...Validation Accuracy = 0.873\n",
      "EPOCH 7 ...Validation Accuracy = 0.891\n",
      "EPOCH 8 ...Validation Accuracy = 0.895\n",
      "EPOCH 9 ...Validation Accuracy = 0.910\n",
      "EPOCH 10 ...Validation Accuracy = 0.908\n"
     ]
    }
   ],
   "source": [
    "# Running Training to understand the performance on Image transformations\n",
    "# Image YUV\n",
    "X_train = Org_X_train.copy()\n",
    "y_train = Org_y_train.copy()\n",
    "\n",
    "X_train, X_valid, y_train, y_valid = train_test_split(X_train, y_train, test_size=0.2, random_state=0)\n",
    "X_train_new = []\n",
    "X_valid_new = []\n",
    "for i in tqdm(range(np.shape(X_train)[0])):\n",
    "    X_train_new.append(YUV(X_train[i]))\n",
    "\n",
    "for i in tqdm(range(np.shape(X_valid)[0])):\n",
    "    X_valid_new.append(YUV(X_valid[i]))\n",
    "\n",
    "X_train_new = np.array(X_train_new)\n",
    "X_valid_new = np.array(X_valid_new)\n",
    "\n",
    "# Plot some new rotated image\n",
    "# Get random set of traffic sign to visualise them\n",
    "dataset, label = getrandomset(X_train_new, y_train, 5)\n",
    "# generate label dictionary to identify the traffic signs\n",
    "label_dict = readLabel(signcsvname)\n",
    "# Plot traffic signs\n",
    "plotrandom(dataset, label, label_dict)\n",
    "\n",
    "# Re Run Network to see the Performance\n",
    "# Create an Object of the LeNet5\n",
    "lenet5obj_YUV = lenet5.neuralLeNet(X_train_new, y_train, X_valid_new, y_valid, X_test, y_test)\n",
    "\n",
    "# Setup Process\n",
    "lenet5obj_YUV.process_setup(EPOCHS=10, BATCH_SIZE=128, mu=0, sigma=0.1,\n",
    "                        inputshape=(5, 5, 3, 6), x_shape=(None, 32, 32, 3),\n",
    "                        y_shape=(None), onehot_class=43, outputclass=43)\n",
    "\n",
    "# Setup training\n",
    "lenet5obj_YUV.setup_train_pipe(learning_rate=0.001)\n",
    "\n",
    "# Sstart training\n",
    "lenet5obj_YUV.train()"
   ]
  },
  {
   "cell_type": "markdown",
   "metadata": {
    "deletable": true,
    "editable": true
   },
   "source": [
    "### Model Architecture"
   ]
  },
  {
   "cell_type": "markdown",
   "metadata": {
    "collapsed": true,
    "deletable": true,
    "editable": true,
    "scrolled": true
   },
   "source": [
    "The following architecture will be finally used to train the traffic sign classifier.\n",
    "- Epoch - 30\n",
    "- Batch Size - 128\n",
    "- Mu - 0\n",
    "- Sigma - 0.1\n",
    "- Dropout - 0/5\n",
    "- Normlisation - (x- mean / Std.Deviation)\n",
    "- Image Rotation, Translation and improve sharpness (using Gaussian Blur)\n",
    "- No change in colour space\n",
    "\n",
    "This setting will be used to asses the classifier as a whole"
   ]
  },
  {
   "cell_type": "markdown",
   "metadata": {
    "deletable": true,
    "editable": true
   },
   "source": [
    "### Train, Validate and Test the Model"
   ]
  },
  {
   "cell_type": "markdown",
   "metadata": {
    "deletable": true,
    "editable": true
   },
   "source": [
    "A validation set can be used to assess how well the model is performing. A low accuracy on the training and validation\n",
    "sets imply underfitting. A high accuracy on the training set but low accuracy on the validation set implies overfitting."
   ]
  },
  {
   "cell_type": "code",
   "execution_count": null,
   "metadata": {
    "collapsed": false,
    "deletable": true,
    "editable": true,
    "scrolled": false
   },
   "outputs": [],
   "source": [
    "X_train = Org_X_train.copy()\n",
    "y_train = Org_y_train.copy()\n",
    "\n",
    "X_train, y_train = shuffle(X_train, y_train)\n",
    "\n",
    "valid_file = os.path.join(rootDir, \"valid.p\")\n",
    "with open(valid_file, mode='rb') as f:\n",
    "    valid = pickle.load(f)\n",
    "\n",
    "X_valid, y_valid = test['features'], test['labels']    \n",
    "\n",
    "X_valid, y_valid = shuffle(X_valid, y_valid)\n",
    "\n",
    "X_train_new = []\n",
    "X_valid_new = []\n",
    "\n",
    "for i in tqdm(range(np.shape(X_train)[0])):\n",
    "    img = enhance_image(X_train[i], 9, 8)\n",
    "    img = rotation(img, angle = 3)\n",
    "    img = translate(img, 3, 3)\n",
    "    X_train_new.append(img)\n",
    "\n",
    "X_train_new = np.array(X_train_new)\n",
    "X_train_new = normalisebystd(X_train_new)\n",
    "\n",
    "for i in tqdm(range(np.shape(X_valid)[0])):\n",
    "    img = enhance_image(X_valid[i], 9, 8)\n",
    "    img = rotation(img, angle = 3)\n",
    "    img = translate(img, 3, 3)\n",
    "    X_valid_new.append(img)\n",
    "\n",
    "X_valid_new = np.array(X_valid_new)\n",
    "X_valid_new = normalisebystd(X_valid_new)\n",
    "\n",
    "\n",
    "# Re Run Network to see the Performance\n",
    "# Create an Object of the LeNet5\n",
    "lenet5final_test = lenet5.neuralLeNet(X_train_new, y_train, X_valid_new, y_valid, X_test, y_test)\n",
    "\n",
    "# Setup Process\n",
    "lenet5final_test.process_setup(EPOCHS=40, BATCH_SIZE=128, mu=0, sigma=0.1,\n",
    "                        inputshape=(5, 5, 3, 6), x_shape=(None, 32, 32, 3),\n",
    "                        y_shape=(None), onehot_class=43, outputclass=43, dropout=0.5)\n",
    "\n",
    "# Setup training\n",
    "lenet5final_test.setup_train_pipe(learning_rate=0.001)\n",
    "\n",
    "# Sstart training\n",
    "lenet5final_test.train(\"./Final_TSR_Model_Update\")"
   ]
  },
  {
   "cell_type": "code",
   "execution_count": null,
   "metadata": {
    "collapsed": true,
    "scrolled": false
   },
   "outputs": [],
   "source": []
  },
  {
   "cell_type": "markdown",
   "metadata": {
    "deletable": true,
    "editable": true
   },
   "source": [
    "---\n",
    "\n",
    "## Step 3: Test a Model on New Images\n",
    "\n",
    "To give yourself more insight into how your model is working, download at least five pictures of German traffic signs from the web and use your model to predict the traffic sign type.\n",
    "\n",
    "You may find `signnames.csv` useful as it contains mappings from the class id (integer) to the actual sign name."
   ]
  },
  {
   "cell_type": "markdown",
   "metadata": {
    "deletable": true,
    "editable": true
   },
   "source": [
    "### Load and Output the Images"
   ]
  },
  {
   "cell_type": "code",
   "execution_count": null,
   "metadata": {
    "collapsed": false,
    "deletable": true,
    "editable": true,
    "scrolled": false
   },
   "outputs": [],
   "source": [
    "### Load the images and plot them here.\n",
    "### Feel free to use as many code cells as needed."
   ]
  },
  {
   "cell_type": "markdown",
   "metadata": {
    "deletable": true,
    "editable": true
   },
   "source": [
    "### Predict the Sign Type for Each Image"
   ]
  },
  {
   "cell_type": "code",
   "execution_count": null,
   "metadata": {
    "collapsed": false,
    "deletable": true,
    "editable": true,
    "scrolled": false
   },
   "outputs": [],
   "source": [
    "### Run the predictions here and use the model to output the prediction for each image.\n",
    "### Make sure to pre-process the images with the same pre-processing pipeline used earlier.\n",
    "### Feel free to use as many code cells as needed."
   ]
  },
  {
   "cell_type": "markdown",
   "metadata": {
    "deletable": true,
    "editable": true
   },
   "source": [
    "### Analyze Performance"
   ]
  },
  {
   "cell_type": "code",
   "execution_count": null,
   "metadata": {
    "collapsed": false,
    "deletable": true,
    "editable": true,
    "scrolled": false
   },
   "outputs": [],
   "source": [
    "### Calculate the accuracy for these 5 new images. \n",
    "### For example, if the model predicted 1 out of 5 signs correctly, it's 20% accurate on these new images."
   ]
  },
  {
   "cell_type": "markdown",
   "metadata": {
    "deletable": true,
    "editable": true
   },
   "source": [
    "### Output Top 5 Softmax Probabilities For Each Image Found on the Web"
   ]
  },
  {
   "cell_type": "markdown",
   "metadata": {
    "deletable": true,
    "editable": true
   },
   "source": [
    "For each of the new images, print out the model's softmax probabilities to show the **certainty** of the model's predictions (limit the output to the top 5 probabilities for each image). [`tf.nn.top_k`](https://www.tensorflow.org/versions/r0.12/api_docs/python/nn.html#top_k) could prove helpful here. \n",
    "\n",
    "The example below demonstrates how tf.nn.top_k can be used to find the top k predictions for each image.\n",
    "\n",
    "`tf.nn.top_k` will return the values and indices (class ids) of the top k predictions. So if k=3, for each sign, it'll return the 3 largest probabilities (out of a possible 43) and the correspoding class ids.\n",
    "\n",
    "Take this numpy array as an example. The values in the array represent predictions. The array contains softmax probabilities for five candidate images with six possible classes. `tk.nn.top_k` is used to choose the three classes with the highest probability:\n",
    "\n",
    "```\n",
    "# (5, 6) array\n",
    "a = np.array([[ 0.24879643,  0.07032244,  0.12641572,  0.34763842,  0.07893497,\n",
    "         0.12789202],\n",
    "       [ 0.28086119,  0.27569815,  0.08594638,  0.0178669 ,  0.18063401,\n",
    "         0.15899337],\n",
    "       [ 0.26076848,  0.23664738,  0.08020603,  0.07001922,  0.1134371 ,\n",
    "         0.23892179],\n",
    "       [ 0.11943333,  0.29198961,  0.02605103,  0.26234032,  0.1351348 ,\n",
    "         0.16505091],\n",
    "       [ 0.09561176,  0.34396535,  0.0643941 ,  0.16240774,  0.24206137,\n",
    "         0.09155967]])\n",
    "```\n",
    "\n",
    "Running it through `sess.run(tf.nn.top_k(tf.constant(a), k=3))` produces:\n",
    "\n",
    "```\n",
    "TopKV2(values=array([[ 0.34763842,  0.24879643,  0.12789202],\n",
    "       [ 0.28086119,  0.27569815,  0.18063401],\n",
    "       [ 0.26076848,  0.23892179,  0.23664738],\n",
    "       [ 0.29198961,  0.26234032,  0.16505091],\n",
    "       [ 0.34396535,  0.24206137,  0.16240774]]), indices=array([[3, 0, 5],\n",
    "       [0, 1, 4],\n",
    "       [0, 5, 1],\n",
    "       [1, 3, 5],\n",
    "       [1, 4, 3]], dtype=int32))\n",
    "```\n",
    "\n",
    "Looking just at the first row we get `[ 0.34763842,  0.24879643,  0.12789202]`, you can confirm these are the 3 largest probabilities in `a`. You'll also notice `[3, 0, 5]` are the corresponding indices."
   ]
  },
  {
   "cell_type": "code",
   "execution_count": null,
   "metadata": {
    "collapsed": false,
    "deletable": true,
    "editable": true,
    "scrolled": false
   },
   "outputs": [],
   "source": [
    "### Print out the top five softmax probabilities for the predictions on the German traffic sign images found on the web. \n",
    "### Feel free to use as many code cells as needed."
   ]
  },
  {
   "cell_type": "markdown",
   "metadata": {
    "deletable": true,
    "editable": true
   },
   "source": [
    "### Project Writeup\n",
    "\n",
    "Once you have completed the code implementation, document your results in a project writeup using this [template](https://github.com/udacity/CarND-Traffic-Sign-Classifier-Project/blob/master/writeup_template.md) as a guide. The writeup can be in a markdown or pdf file. "
   ]
  },
  {
   "cell_type": "markdown",
   "metadata": {
    "deletable": true,
    "editable": true
   },
   "source": [
    "> **Note**: Once you have completed all of the code implementations and successfully answered each question above, you may finalize your work by exporting the iPython Notebook as an HTML document. You can do this by using the menu above and navigating to  \\n\",\n",
    "    \"**File -> Download as -> HTML (.html)**. Include the finished document along with this notebook as your submission."
   ]
  },
  {
   "cell_type": "markdown",
   "metadata": {
    "deletable": true,
    "editable": true
   },
   "source": [
    "---\n",
    "\n",
    "## Step 4 (Optional): Visualize the Neural Network's State with Test Images\n",
    "\n",
    " This Section is not required to complete but acts as an additional excersise for understaning the output of a neural network's weights. While neural networks can be a great learning device they are often referred to as a black box. We can understand what the weights of a neural network look like better by plotting their feature maps. After successfully training your neural network you can see what it's feature maps look like by plotting the output of the network's weight layers in response to a test stimuli image. From these plotted feature maps, it's possible to see what characteristics of an image the network finds interesting. For a sign, maybe the inner network feature maps react with high activation to the sign's boundary outline or to the contrast in the sign's painted symbol.\n",
    "\n",
    " Provided for you below is the function code that allows you to get the visualization output of any tensorflow weight layer you want. The inputs to the function should be a stimuli image, one used during training or a new one you provided, and then the tensorflow variable name that represents the layer's state during the training process, for instance if you wanted to see what the [LeNet lab's](https://classroom.udacity.com/nanodegrees/nd013/parts/fbf77062-5703-404e-b60c-95b78b2f3f9e/modules/6df7ae49-c61c-4bb2-a23e-6527e69209ec/lessons/601ae704-1035-4287-8b11-e2c2716217ad/concepts/d4aca031-508f-4e0b-b493-e7b706120f81) feature maps looked like for it's second convolutional layer you could enter conv2 as the tf_activation variable.\n",
    "\n",
    "For an example of what feature map outputs look like, check out NVIDIA's results in their paper [End-to-End Deep Learning for Self-Driving Cars](https://devblogs.nvidia.com/parallelforall/deep-learning-self-driving-cars/) in the section Visualization of internal CNN State. NVIDIA was able to show that their network's inner weights had high activations to road boundary lines by comparing feature maps from an image with a clear path to one without. Try experimenting with a similar test to show that your trained network's weights are looking for interesting features, whether it's looking at differences in feature maps from images with or without a sign, or even what feature maps look like in a trained network vs a completely untrained one on the same sign image.\n",
    "\n",
    "<figure>\n",
    " <img src=\"visualize_cnn.png\" width=\"380\" alt=\"Combined Image\" />\n",
    " <figcaption>\n",
    " <p></p> \n",
    " <p style=\"text-align: center;\"> Your output should look something like this (above)</p> \n",
    " </figcaption>\n",
    "</figure>\n",
    " <p></p> \n"
   ]
  },
  {
   "cell_type": "code",
   "execution_count": null,
   "metadata": {
    "collapsed": false,
    "deletable": true,
    "editable": true,
    "scrolled": false
   },
   "outputs": [],
   "source": [
    "### Visualize your network's feature maps here.\n",
    "### Feel free to use as many code cells as needed.\n",
    "\n",
    "# image_input: the test image being fed into the network to produce the feature maps\n",
    "# tf_activation: should be a tf variable name used during your training procedure that represents the calculated state of a specific weight layer\n",
    "# activation_min/max: can be used to view the activation contrast in more detail, by default matplot sets min and max to the actual min and max values of the output\n",
    "# plt_num: used to plot out multiple different weight feature map sets on the same block, just extend the plt number for each new feature map entry\n",
    "\n",
    "def outputFeatureMap(image_input, tf_activation, activation_min=-1, activation_max=-1 ,plt_num=1):\n",
    "    # Here make sure to preprocess your image_input in a way your network expects\n",
    "    # with size, normalization, ect if needed\n",
    "    # image_input =\n",
    "    # Note: x should be the same name as your network's tensorflow data placeholder variable\n",
    "    # If you get an error tf_activation is not defined it may be having trouble accessing the variable from inside a function\n",
    "    activation = tf_activation.eval(session=sess,feed_dict={x : image_input})\n",
    "    featuremaps = activation.shape[3]\n",
    "    plt.figure(plt_num, figsize=(15,15))\n",
    "    for featuremap in range(featuremaps):\n",
    "        plt.subplot(6,8, featuremap+1) # sets the number of feature maps to show on each row and column\n",
    "        plt.title('FeatureMap ' + str(featuremap)) # displays the feature map number\n",
    "        if activation_min != -1 & activation_max != -1:\n",
    "            plt.imshow(activation[0,:,:, featuremap], interpolation=\"nearest\", vmin =activation_min, vmax=activation_max, cmap=\"gray\")\n",
    "        elif activation_max != -1:\n",
    "            plt.imshow(activation[0,:,:, featuremap], interpolation=\"nearest\", vmax=activation_max, cmap=\"gray\")\n",
    "        elif activation_min !=-1:\n",
    "            plt.imshow(activation[0,:,:, featuremap], interpolation=\"nearest\", vmin=activation_min, cmap=\"gray\")\n",
    "        else:\n",
    "            plt.imshow(activation[0,:,:, featuremap], interpolation=\"nearest\", cmap=\"gray\")"
   ]
  }
 ],
 "metadata": {
  "anaconda-cloud": {},
  "kernelspec": {
   "display_name": "Python 3",
   "language": "python",
   "name": "python3"
  },
  "language_info": {
   "codemirror_mode": {
    "name": "ipython",
    "version": 3
   },
   "file_extension": ".py",
   "mimetype": "text/x-python",
   "name": "python",
   "nbconvert_exporter": "python",
   "pygments_lexer": "ipython3",
   "version": "3.5.3"
  }
 },
 "nbformat": 4,
 "nbformat_minor": 1
}
